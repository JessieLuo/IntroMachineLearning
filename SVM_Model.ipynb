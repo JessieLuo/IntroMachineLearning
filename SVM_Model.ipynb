{
 "cells": [
  {
   "cell_type": "code",
   "execution_count": null,
   "metadata": {},
   "outputs": [],
   "source": [
    "# '''''''''''''''''\n",
    "# Author: Zijie Luo\n",
    "# ID: a1866762\n",
    "# '''''''''''''''''"
   ]
  },
  {
   "cell_type": "code",
   "execution_count": 3,
   "metadata": {},
   "outputs": [],
   "source": [
    "# Import Necessary Library\n",
    "import os\n",
    "import pandas as pd\n",
    "import numpy as np\n",
    "import cvxpy as cp"
   ]
  },
  {
   "cell_type": "code",
   "execution_count": 13,
   "metadata": {},
   "outputs": [],
   "source": [
    "# Process train and test dataset\n",
    "\n",
    "data_train, data_test = pd.read_csv(\"train.csv\",header=None), pd.read_csv(\"test.csv\",header=None)\n",
    "\n",
    "# Train dataset\n",
    "\n",
    "## extract label and features\n",
    "train_label, train_feature = data_train.iloc[:,0], data_train.iloc[:,1:]\n",
    "\n",
    "X_train, y_train_label = train_feature.iloc[:4000,:].to_numpy(), train_label.iloc[:4000].to_numpy()\n",
    "X_val, y_val_label = train_feature.iloc[4000:,:].to_numpy(), train_label.iloc[4000:].to_numpy()\n",
    "\n",
    "# print(X_train.shape) # numpy np.shape->Capture the dimension\n",
    "\n",
    "# Test dataset\n",
    "test_label, test_feature = data_test.iloc[:,0].to_numpy(), data_test.iloc[:,1:].to_numpy()"
   ]
  },
  {
   "cell_type": "code",
   "execution_count": null,
   "metadata": {},
   "outputs": [],
   "source": [
    "# Question2\n",
    "''' \n",
    "implement the training and testing algorithms of \n",
    "soft-margin Linear Support Vector Machine from \n",
    "its primal form\n",
    "'''\n",
    "\n",
    "## Training\n",
    "def svm_train_primal(data_train, label_train, regularisation_para_C):\n",
    "    n_samples, n_features = data_train.shape # [4000,200] -> n_samples=4000, n_features=200\n",
    "    # w 应该代表特征，该数据集每个sample有200个feature，总共有4000个samples被用来训练模型\n",
    "    w = cp.Variable(n_features) # w should be find through dataset, it means how many samples should in there\n",
    "    b = cp.Variable()\n",
    "    zeta_i = cp.Variable(n_samples)\n",
    "\n",
    "    # svm classify the feature into (-1,1) but not (0,1), so we re-encode the label\n",
    "    label_train = np.where(label_train == 0, -1, label_train)\n",
    "\n",
    "    y_i = label_train\n",
    "    decision = data_train @ w + b\n",
    "    \n",
    "    objective = cp.Minimize(0.5 * cp.norm(w, 2) + regularisation_para_C * cp.sum(zeta_i))\n",
    "    constraints = [cp.multiply(y_i, decision) >= 1 - zeta_i, zeta_i >= 0]\n",
    "    \n",
    "    problem = cp.Problem(objective, constraints)\n",
    "    problem.solve()\n",
    "    # Check the status of the solution, ensure the solver can find optimal solution\n",
    "    if problem.status == 'optimal':\n",
    "        print(\"Solution found is optimal.\")\n",
    "    else:\n",
    "        print(f\"Problem not solved optimally: {problem.status}\")\n",
    "    \n",
    "    svm_model = {'w': w.value, 'b': b.value, 'z': zeta_i.value}\n",
    "    return svm_model\n"
   ]
  },
  {
   "cell_type": "code",
   "execution_count": null,
   "metadata": {},
   "outputs": [],
   "source": [
    "## Test accuracy\n",
    "def svm_predict_primal(data_test, label_test, svm_model):\n",
    "    w = svm_model['w']\n",
    "    b = svm_model['b']\n",
    "    \n",
    "    predictions = data_test @ w + b\n",
    "    predictions[predictions >= 0] = 1\n",
    "    predictions[predictions < 0] = -1\n",
    "    \n",
    "    test_accuracy = np.mean(predictions == label_test)\n",
    "    return test_accuracy\n"
   ]
  },
  {
   "cell_type": "code",
   "execution_count": null,
   "metadata": {},
   "outputs": [],
   "source": [
    "## Apply Model\n",
    "\n",
    "# define regularization C range to find the optimal value, [1] define baseline\n",
    "regularization_para_C = [1] + list(range(0, 31, 5))\n",
    "\n",
    "# Start training the SVM\n",
    "for C in regularization_para_C:\n",
    "    svm_model = svm_train_primal(X_train, y_train_label, C)\n",
    "    test_accuracy = svm_predict_primal(X_val, y_val_label, svm_model)\n",
    "    print(f\"Val accuracy with C={C}: {test_accuracy}\")\n",
    "\n",
    "# # Print the solution for b and the sum of all dimensions of w\n",
    "# print(\"Solution for b:\", svm_model['b'])\n",
    "# print(\"Sum of all dimensions of w:\", np.sum(svm_model['w']))\n",
    "# print(\"solution for zeta_i\", np.sum(svm_model['z']))\n"
   ]
  }
 ],
 "metadata": {
  "kernelspec": {
   "display_name": "my_env",
   "language": "python",
   "name": "python3"
  },
  "language_info": {
   "codemirror_mode": {
    "name": "ipython",
    "version": 3
   },
   "file_extension": ".py",
   "mimetype": "text/x-python",
   "name": "python",
   "nbconvert_exporter": "python",
   "pygments_lexer": "ipython3",
   "version": "3.11.2"
  },
  "orig_nbformat": 4
 },
 "nbformat": 4,
 "nbformat_minor": 2
}
